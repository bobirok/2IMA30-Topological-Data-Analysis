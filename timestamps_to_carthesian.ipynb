{
 "cells": [
  {
   "cell_type": "code",
   "execution_count": null,
   "metadata": {
    "pycharm": {
     "name": "#%%\n"
    }
   },
   "outputs": [
    {
     "ename": "",
     "evalue": "",
     "output_type": "error",
     "traceback": [
      "\u001b[1;31mRunning cells with 'Python 3.8.9 64-bit' requires ipykernel package.\n",
      "Run the following command to install 'ipykernel' into the Python environment. \n",
      "Command: '/usr/bin/python3 -m pip install ipykernel -U --user --force-reinstall'"
     ]
    }
   ],
   "source": [
    "import numpy as np\n",
    "import scipy.spatial as sp\n",
    "import math\n",
    "import matplotlib.pyplot as plt\n",
    "import pandas as pd\n",
    "import datetime as dt"
   ]
  },
  {
   "cell_type": "code",
   "execution_count": 7,
   "metadata": {
    "pycharm": {
     "name": "#%%\n"
    }
   },
   "outputs": [],
   "source": [
    "def toruscoord(x: np.array, R: float = 1, r: float =0.5) -> np.array:\n",
    "    #outer radius R = 1\n",
    "    #inner radius r = 0.5\n",
    "    xmin = np.min(x[:,0])\n",
    "    xmax = np.max(x[:,0]) \n",
    "    ymin = np.min(x[:,1])\n",
    "    ymax = np.max(x[:,1])\n",
    "    y = []\n",
    "\n",
    "    for i,j in x:\n",
    "        phi = 2*math.pi*(i-xmin)/(xmax-xmin)\n",
    "        theta = 2*math.pi*(j-ymin)/(ymax-ymin)\n",
    "        a = (R + r*math.cos(theta))*math.cos(phi)\n",
    "        b = (R + r*math.cos(theta))*math.sin(phi)\n",
    "        c = r*math.sin(theta)\n",
    "        y.append((a,b,c))\n",
    "\n",
    "    return np.array(y)"
   ]
  },
  {
   "cell_type": "code",
   "execution_count": 13,
   "metadata": {
    "pycharm": {
     "name": "#%%\n"
    }
   },
   "outputs": [],
   "source": [
    "test_data = pd.read_csv(r'test_data.csv')"
   ]
  },
  {
   "cell_type": "code",
   "execution_count": 26,
   "metadata": {
    "pycharm": {
     "name": "#%%\n"
    }
   },
   "outputs": [],
   "source": [
    "shuffled_data = test_data.sample(frac=1)"
   ]
  },
  {
   "cell_type": "code",
   "execution_count": 31,
   "metadata": {
    "pycharm": {
     "name": "#%%\n"
    }
   },
   "outputs": [],
   "source": [
    "X = np.array(shuffled_data[:100000]['timestamp'])\n",
    "\n",
    "week = []\n",
    "time = []\n",
    "for i in X:\n",
    "    week += [int(dt.date(int(i[:4]),int(i[5:7]),int(i[8:10])).strftime(\"%U\"))]\n",
    "    time += [int(i[11:13])*60*60 + int(i[14:16])*60 + int(i[17:19])]"
   ]
  },
  {
   "cell_type": "code",
   "execution_count": 56,
   "metadata": {
    "pycharm": {
     "name": "#%%\n"
    }
   },
   "outputs": [],
   "source": [
    "torus = toruscoord(np.vstack((week,time)).T, R=2000, r=1200)"
   ]
  },
  {
   "cell_type": "code",
   "execution_count": 62,
   "metadata": {
    "pycharm": {
     "name": "#%%\n"
    }
   },
   "outputs": [
    {
     "data": {
      "image/png": "[encoded data removed]",
      "text/plain": [
       "<Figure size 432x288 with 1 Axes>"
      ]
     },
     "metadata": {
      "needs_background": "light"
     },
     "output_type": "display_data"
    }
   ],
   "source": [
    "fig = plt.figure()\n",
    "ax = fig.add_subplot(projection='3d')\n",
    "ax.scatter3D(torus[:,0],torus[:,1],torus[:,2])\n",
    "\n",
    "plt.show(block=False)"
   ]
  },
  {
   "cell_type": "code",
   "execution_count": 63,
   "metadata": {
    "pycharm": {
     "name": "#%%\n"
    }
   },
   "outputs": [
    {
     "name": "stdout",
     "output_type": "stream",
     "text": [
      "(24876978, 7)\n"
     ]
    }
   ],
   "source": [
    "print(shuffled_data.shape)"
   ]
  },
  {
   "cell_type": "code",
   "execution_count": null,
   "metadata": {
    "collapsed": false,
    "pycharm": {
     "name": "#%%\n"
    }
   },
   "outputs": [],
   "source": [
    "# import pandas as pd\n",
    "\n",
    "# df = pd.DataFrame(torus, columns=['x','y','z'])\n",
    "# df['timestamp'] = X\n",
    "# df.to_csv('torus_coordinates_1000.csv', index=False)"
   ]
  },
  {
   "cell_type": "code",
   "execution_count": 64,
   "metadata": {},
   "outputs": [],
   "source": [
    "# import pandas as pd\n",
    "\n",
    "# df = pd.DataFrame(torus, columns=['x','y','z'])\n",
    "# df['timestamp'] = X\n",
    "# df.to_csv('torus_coordinates_1000.csv', index=False)"
   ]
  }
 ],
 "metadata": {
  "kernelspec": {
   "display_name": "Python 3.8.9 64-bit",
   "language": "python",
   "name": "python3"
  },
  "language_info": {
   "codemirror_mode": {
    "name": "ipython",
    "version": 3
   },
   "file_extension": ".py",
   "mimetype": "text/x-python",
   "name": "python",
   "nbconvert_exporter": "python",
   "pygments_lexer": "ipython3",
   "version": "3.8.9"
  },
  "orig_nbformat": 4,
  "vscode": {
   "interpreter": {
    "hash": "31f2aee4e71d21fbe5cf8b01ff0e069b9275f58929596ceb00d14d90e3e16cd6"
   }
  }
 },
 "nbformat": 4,
 "nbformat_minor": 2
}
